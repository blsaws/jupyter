{
 "cells": [
  {
   "cell_type": "code",
   "execution_count": null,
   "metadata": {},
   "outputs": [],
   "source": [
    "!pip install acumos\n",
    "!conda install -y -c anaconda libprotobuf"
   ]
  },
  {
   "cell_type": "code",
   "execution_count": null,
   "metadata": {},
   "outputs": [],
   "source": [
    "import os\n",
    "import os.path\n",
    "import time\n",
    "\n",
    "from acumos.session import AcumosSession\n",
    "from acumos.modeling import Model, List, create_dataframe\n",
    " \n",
    "import numpy as np\n",
    "import pandas as pd\n",
    "from sklearn.datasets import load_iris\n",
    "from sklearn.ensemble import RandomForestClassifier\n",
    "\n",
    "iris = load_iris()\n",
    "X = iris.data\n",
    "y = iris.target\n",
    " \n",
    "clf = RandomForestClassifier(random_state=0)\n",
    "clf.fit(X, y)\n",
    "\n",
    "# here, an appropriate NamedTuple type is inferred from a pandas DataFrame\n",
    "X_df = pd.DataFrame(X, columns=['sepal_length', 'sepal_width', 'petal_length', 'petal_width'])\n",
    "IrisDataFrame = create_dataframe('IrisDataFrame', X_df)\n",
    " \n",
    "# ==================================================================================\n",
    "# # or equivalently:\n",
    "#\n",
    "# IrisDataFrame = create_namedtuple('IrisDataFrame', [('sepal_length', List[float]),\n",
    "#                                                     ('sepal_width', List[float]),\n",
    "#                                                     ('petal_length', List[float]),\n",
    "#                                                     ('petal_width', List[float])])\n",
    "# ==================================================================================\n",
    " \n",
    "def classify_iris(df: IrisDataFrame) -> List[int]:\n",
    "    '''Returns an array of iris classifications'''\n",
    "    X = np.column_stack(df)\n",
    "    return clf.predict(X)\n",
    " \n",
    "model = Model(classify=classify_iris)\n",
    " \n",
    "session = AcumosSession()\n",
    "\n",
    "if os.path.exists(\"iris_sklearn\"):\n",
    "    os.remove('iris_sklearn/metadata.json')\n",
    "    os.remove('iris_sklearn/model.proto')\n",
    "    os.remove('iris_sklearn/model.zip')\n",
    "    os.rmdir('iris_sklearn')\n",
    "\n",
    "session.dump(model,'iris_sklearn','~/.')\n",
    "\n",
    "while not os.path.exists(\"iris_sklearn\"):\n",
    "    time.sleep(1)\n",
    "\n",
    "print(\"The trained model has been dumped into the iris_sklearn folder\")"
   ]
  },
  {
   "cell_type": "code",
   "execution_count": 21,
   "metadata": {},
   "outputs": [
    {
     "name": "stdout",
     "output_type": "stream",
     "text": [
      "--2019-02-15 13:38:12--  https://wiki.acumos.org/download/attachments/17694974/acumos-push.py\n",
      "Resolving wiki.acumos.org (wiki.acumos.org)... 34.208.65.52, 54.186.126.141\n",
      "Connecting to wiki.acumos.org (wiki.acumos.org)|34.208.65.52|:443... connected.\n",
      "HTTP request sent, awaiting response... 200 OK\n",
      "Length: 3753 (3.7K) [application/octet-stream]\n",
      "Saving to: ‘acumos-push.py’\n",
      "\n",
      "acumos-push.py      100%[===================>]   3.67K  --.-KB/s    in 0s      \n",
      "\n",
      "2019-02-15 13:38:12 (330 MB/s) - ‘acumos-push.py’ saved [3753/3753]\n",
      "\n"
     ]
    }
   ],
   "source": [
    "if not os.path.exists(\"acumos-push.py\"):\n",
    "    !wget https://wiki.acumos.org/download/attachments/17694974/acumos-push.py\n",
    "os.environ['ACUMOS_USERNAME'] = \"test\"\n",
    "os.environ['ACUMOS_PASSWORD'] = \"P@ssw0rd\"\n",
    "os.environ['ACUMOS_TOKEN'] = \"171cfda8dfa24edf8dfbc3dd681d8562\"\n",
    "os.environ['ACUMOS_DUMPDIR'] = \"iris_sklearn\"\n",
    "!python acumos-push.py"
   ]
  },
  {
   "cell_type": "code",
   "execution_count": null,
   "metadata": {},
   "outputs": [],
   "source": []
  }
 ],
 "metadata": {
  "kernelspec": {
   "display_name": "Python 3",
   "language": "python",
   "name": "python3"
  },
  "language_info": {
   "codemirror_mode": {
    "name": "ipython",
    "version": 3
   },
   "file_extension": ".py",
   "mimetype": "text/x-python",
   "name": "python",
   "nbconvert_exporter": "python",
   "pygments_lexer": "ipython3",
   "version": "3.6.8"
  }
 },
 "nbformat": 4,
 "nbformat_minor": 2
}
